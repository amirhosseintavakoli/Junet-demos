{
 "cells": [
  {
   "cell_type": "markdown",
   "metadata": {},
   "source": [
    "# Node and edge attributes\n",
    "\n",
    "To associate the attributes with nodes and edges, Junet has a special syntax."
   ]
  },
  {
   "cell_type": "code",
   "execution_count": 1,
   "metadata": {
    "collapsed": false,
    "inputHidden": false,
    "outputHidden": false
   },
   "outputs": [],
   "source": [
    "using Junet"
   ]
  },
  {
   "cell_type": "code",
   "execution_count": 2,
   "metadata": {
    "collapsed": false,
    "inputHidden": false,
    "outputHidden": false
   },
   "outputs": [
    {
     "data": {
      "text/plain": [
       "100-node 200-edge directed multigraph"
      ]
     },
     "execution_count": 2,
     "metadata": {},
     "output_type": "execute_result"
    }
   ],
   "source": [
    "g = graph_erdos_renyi(100, 200)"
   ]
  },
  {
   "cell_type": "code",
   "execution_count": 3,
   "metadata": {
    "collapsed": false,
    "inputHidden": false,
    "outputHidden": false
   },
   "outputs": [
    {
     "name": "stdout",
     "output_type": "stream",
     "text": [
      "100-node 200-edge directed multigraph occupying 4.1 KiB\n",
      "0 node attributes\n",
      "0 edge attributes\n",
      "Sample edges: 1 → 58, 1 → 97, 2 → 1, 2 → 54, 2 → 84, 3 → 29, 3 → 50, 4 → 95, 5 → 51, 5 → 79, 6 → 19, 7 → 4, 8 → 41, 8 → 61, 10 → 21, 10 → 47, 10 → 65, 11 → 4, 11 → 12, 12 → 74…\n"
     ]
    }
   ],
   "source": [
    "summary(g)          # right now, there are no attributes"
   ]
  },
  {
   "cell_type": "markdown",
   "metadata": {},
   "source": [
    "Node attributes are set using the familiar array slice syntax."
   ]
  },
  {
   "cell_type": "code",
   "execution_count": 4,
   "metadata": {
    "collapsed": false,
    "inputHidden": false,
    "outputHidden": false
   },
   "outputs": [
    {
     "data": {
      "text/plain": [
       "10"
      ]
     },
     "execution_count": 4,
     "metadata": {},
     "output_type": "execute_result"
    }
   ],
   "source": [
    "g[:, :test] = 10     # we set the attribute \"test\" to 10 for each node"
   ]
  },
  {
   "cell_type": "code",
   "execution_count": 5,
   "metadata": {
    "collapsed": false,
    "inputHidden": false,
    "outputHidden": false
   },
   "outputs": [
    {
     "data": {
      "text/plain": [
       "5"
      ]
     },
     "execution_count": 5,
     "metadata": {},
     "output_type": "execute_result"
    }
   ],
   "source": [
    "g[10, :test] = 5     # we set \"test\" to 5 just for node 10"
   ]
  },
  {
   "cell_type": "code",
   "execution_count": 6,
   "metadata": {
    "collapsed": false,
    "inputHidden": false,
    "outputHidden": false
   },
   "outputs": [
    {
     "data": {
      "text/plain": [
       "100"
      ]
     },
     "execution_count": 6,
     "metadata": {},
     "output_type": "execute_result"
    }
   ],
   "source": [
    "g[:, :foo] = 100     # another dummy attribute"
   ]
  },
  {
   "cell_type": "markdown",
   "metadata": {},
   "source": [
    "We can see their contents as an array."
   ]
  },
  {
   "cell_type": "code",
   "execution_count": 7,
   "metadata": {
    "collapsed": false,
    "inputHidden": false,
    "outputHidden": false
   },
   "outputs": [
    {
     "data": {
      "text/plain": [
       "100-element Junet.SparseAttribute{Int64,1,Junet.##3#4{Junet.Graph{UInt32,UInt32,Junet.Forward,Junet.Multi}}}:\n",
       " 10\n",
       " 10\n",
       " 10\n",
       " 10\n",
       " 10\n",
       " 10\n",
       " 10\n",
       " 10\n",
       " 10\n",
       "  5\n",
       " 10\n",
       " 10\n",
       " 10\n",
       "  ⋮\n",
       " 10\n",
       " 10\n",
       " 10\n",
       " 10\n",
       " 10\n",
       " 10\n",
       " 10\n",
       " 10\n",
       " 10\n",
       " 10\n",
       " 10\n",
       " 10"
      ]
     },
     "execution_count": 7,
     "metadata": {},
     "output_type": "execute_result"
    }
   ],
   "source": [
    "g[:, :test]"
   ]
  },
  {
   "cell_type": "code",
   "execution_count": 8,
   "metadata": {
    "collapsed": false,
    "inputHidden": false,
    "outputHidden": false
   },
   "outputs": [
    {
     "data": {
      "text/plain": [
       "100-element Junet.ConstantAttribute{Int64,1,Junet.##3#4{Junet.Graph{UInt32,UInt32,Junet.Forward,Junet.Multi}}}:\n",
       " 100\n",
       " 100\n",
       " 100\n",
       " 100\n",
       " 100\n",
       " 100\n",
       " 100\n",
       " 100\n",
       " 100\n",
       " 100\n",
       " 100\n",
       " 100\n",
       " 100\n",
       "   ⋮\n",
       " 100\n",
       " 100\n",
       " 100\n",
       " 100\n",
       " 100\n",
       " 100\n",
       " 100\n",
       " 100\n",
       " 100\n",
       " 100\n",
       " 100\n",
       " 100"
      ]
     },
     "execution_count": 8,
     "metadata": {},
     "output_type": "execute_result"
    }
   ],
   "source": [
    "g[:, :foo]"
   ]
  },
  {
   "cell_type": "markdown",
   "metadata": {},
   "source": [
    "However, when we look at their size in memory, we find out they occupy just a couple of bytes (for all 100 elements)."
   ]
  },
  {
   "cell_type": "code",
   "execution_count": 9,
   "metadata": {
    "collapsed": false,
    "inputHidden": false,
    "outputHidden": false
   },
   "outputs": [
    {
     "data": {
      "text/plain": [
       "(64, 16)"
      ]
     },
     "execution_count": 9,
     "metadata": {},
     "output_type": "execute_result"
    }
   ],
   "source": [
    "sizeof(g[:, :test].data), sizeof(g[:, :foo])"
   ]
  },
  {
   "cell_type": "markdown",
   "metadata": {},
   "source": [
    "This is due to the fact that Junet uses the optimized sparse representations for attributes by default.\n",
    "* If argument is the same for all nodes (or edges), then only that default value is stored.\n",
    "* If argument is different from default value for just a couple of nodes, only the default and different values are stored.\n",
    "* If uses passes a sparse data structure (e.g., array) as an argument, it is preserved."
   ]
  },
  {
   "cell_type": "code",
   "execution_count": 10,
   "metadata": {
    "collapsed": false,
    "inputHidden": false,
    "outputHidden": false
   },
   "outputs": [
    {
     "data": {
      "text/plain": [
       "100-element Array{Float64,1}:\n",
       " 0.976067 \n",
       " 0.875207 \n",
       " 0.0963823\n",
       " 0.997428 \n",
       " 0.236847 \n",
       " 0.382282 \n",
       " 0.908059 \n",
       " 0.168116 \n",
       " 0.515953 \n",
       " 0.866738 \n",
       " 0.0582352\n",
       " 0.363707 \n",
       " 0.844042 \n",
       " ⋮        \n",
       " 0.671837 \n",
       " 0.925079 \n",
       " 0.697564 \n",
       " 0.961758 \n",
       " 0.315292 \n",
       " 0.483989 \n",
       " 0.105286 \n",
       " 0.636847 \n",
       " 0.214004 \n",
       " 0.410617 \n",
       " 0.766792 \n",
       " 0.670916 "
      ]
     },
     "execution_count": 10,
     "metadata": {},
     "output_type": "execute_result"
    }
   ],
   "source": [
    "g[:, :dense] = rand(nodecount(g))"
   ]
  },
  {
   "cell_type": "code",
   "execution_count": 11,
   "metadata": {
    "collapsed": false,
    "inputHidden": false,
    "outputHidden": false
   },
   "outputs": [
    {
     "data": {
      "text/plain": [
       "800"
      ]
     },
     "execution_count": 11,
     "metadata": {},
     "output_type": "execute_result"
    }
   ],
   "source": [
    "sizeof(g[:, :dense].data)"
   ]
  },
  {
   "cell_type": "markdown",
   "metadata": {},
   "source": [
    "Attributes can generally be treated as `Vector`'s, and thus they support most of the mathematical operations."
   ]
  },
  {
   "cell_type": "code",
   "execution_count": 12,
   "metadata": {
    "collapsed": false,
    "inputHidden": false,
    "outputHidden": false
   },
   "outputs": [
    {
     "data": {
      "text/plain": [
       "100-element Array{Float64,1}:\n",
       " 1.95213 \n",
       " 1.75041 \n",
       " 0.192765\n",
       " 1.99486 \n",
       " 0.473695\n",
       " 0.764564\n",
       " 1.81612 \n",
       " 0.336233\n",
       " 1.03191 \n",
       " 1.73348 \n",
       " 0.11647 \n",
       " 0.727414\n",
       " 1.68808 \n",
       " ⋮       \n",
       " 1.34367 \n",
       " 1.85016 \n",
       " 1.39513 \n",
       " 1.92352 \n",
       " 0.630585\n",
       " 0.967977\n",
       " 0.210572\n",
       " 1.27369 \n",
       " 0.428007\n",
       " 0.821234\n",
       " 1.53358 \n",
       " 1.34183 "
      ]
     },
     "execution_count": 12,
     "metadata": {},
     "output_type": "execute_result"
    }
   ],
   "source": [
    "g[:, :dense] * 2"
   ]
  },
  {
   "cell_type": "code",
   "execution_count": 13,
   "metadata": {
    "collapsed": false,
    "inputHidden": false,
    "outputHidden": false
   },
   "outputs": [
    {
     "data": {
      "text/plain": [
       "100-element Array{Float64,1}:\n",
       " 1.95213 \n",
       " 1.75041 \n",
       " 0.192765\n",
       " 1.99486 \n",
       " 0.473695\n",
       " 0.764564\n",
       " 1.81612 \n",
       " 0.336233\n",
       " 1.03191 \n",
       " 1.73348 \n",
       " 0.11647 \n",
       " 0.727414\n",
       " 1.68808 \n",
       " ⋮       \n",
       " 1.34367 \n",
       " 1.85016 \n",
       " 1.39513 \n",
       " 1.92352 \n",
       " 0.630585\n",
       " 0.967977\n",
       " 0.210572\n",
       " 1.27369 \n",
       " 0.428007\n",
       " 0.821234\n",
       " 1.53358 \n",
       " 1.34183 "
      ]
     },
     "execution_count": 13,
     "metadata": {},
     "output_type": "execute_result"
    }
   ],
   "source": [
    "g[:, :dense] *= 2"
   ]
  },
  {
   "cell_type": "markdown",
   "metadata": {},
   "source": [
    "Finally, attributes work similarly when applied to edges."
   ]
  },
  {
   "cell_type": "code",
   "execution_count": 15,
   "metadata": {
    "collapsed": false,
    "inputHidden": false,
    "outputHidden": false
   },
   "outputs": [
    {
     "data": {
      "text/plain": [
       "1"
      ]
     },
     "execution_count": 15,
     "metadata": {},
     "output_type": "execute_result"
    }
   ],
   "source": [
    "g[:, :, :a] = 1"
   ]
  },
  {
   "cell_type": "code",
   "execution_count": 16,
   "metadata": {
    "collapsed": false,
    "inputHidden": false,
    "outputHidden": false
   },
   "outputs": [
    {
     "data": {
      "text/plain": [
       "200-element Junet.ConstantAttribute{Int64,1,Junet.##5#6{Junet.Graph{UInt32,UInt32,Junet.Forward,Junet.Multi}}}:\n",
       " 1\n",
       " 1\n",
       " 1\n",
       " 1\n",
       " 1\n",
       " 1\n",
       " 1\n",
       " 1\n",
       " 1\n",
       " 1\n",
       " 1\n",
       " 1\n",
       " 1\n",
       " ⋮\n",
       " 1\n",
       " 1\n",
       " 1\n",
       " 1\n",
       " 1\n",
       " 1\n",
       " 1\n",
       " 1\n",
       " 1\n",
       " 1\n",
       " 1\n",
       " 1"
      ]
     },
     "execution_count": 16,
     "metadata": {},
     "output_type": "execute_result"
    }
   ],
   "source": [
    "g[:, :, :a]"
   ]
  },
  {
   "cell_type": "code",
   "execution_count": 17,
   "metadata": {
    "collapsed": false,
    "inputHidden": false,
    "outputHidden": false
   },
   "outputs": [
    {
     "data": {
      "text/plain": [
       "2"
      ]
     },
     "execution_count": 17,
     "metadata": {},
     "output_type": "execute_result"
    }
   ],
   "source": [
    "g[:, 3, :a] = 2"
   ]
  },
  {
   "cell_type": "code",
   "execution_count": 18,
   "metadata": {
    "collapsed": false,
    "inputHidden": false,
    "outputHidden": false
   },
   "outputs": [
    {
     "data": {
      "text/plain": [
       "2-element Array{Int64,1}:\n",
       " 1\n",
       " 1"
      ]
     },
     "execution_count": 18,
     "metadata": {},
     "output_type": "execute_result"
    }
   ],
   "source": [
    "collect(g[3, :, :a])"
   ]
  },
  {
   "cell_type": "code",
   "execution_count": 19,
   "metadata": {
    "collapsed": false,
    "inputHidden": false,
    "outputHidden": false
   },
   "outputs": [
    {
     "data": {
      "text/plain": [
       "2-element Array{Int64,1}:\n",
       " 2\n",
       " 2"
      ]
     },
     "execution_count": 19,
     "metadata": {},
     "output_type": "execute_result"
    }
   ],
   "source": [
    "collect(g[:, 3, :a])"
   ]
  },
  {
   "cell_type": "code",
   "execution_count": null,
   "metadata": {
    "collapsed": false,
    "inputHidden": false,
    "outputHidden": false
   },
   "outputs": [],
   "source": []
  }
 ],
 "metadata": {
  "kernel_info": {
   "name": "julia-0.5"
  },
  "kernelspec": {
   "display_name": "Julia 0.6.0",
   "language": "julia",
   "name": "julia-0.6"
  },
  "language_info": {
   "file_extension": ".jl",
   "mimetype": "application/julia",
   "name": "julia",
   "version": "0.6.2"
  }
 },
 "nbformat": 4,
 "nbformat_minor": 4
}
