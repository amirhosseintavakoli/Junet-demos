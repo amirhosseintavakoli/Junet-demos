{
  "cells": [
    {
      "cell_type": "markdown",
      "source": [
        "# Node and edge attributes\n",
        "\nTo associate the attributes with nodes and edges, Junet has a special syntax."
      ],
      "metadata": {}
    },
    {
      "cell_type": "code",
      "source": [
        "using Junet"
      ],
      "outputs": [],
      "execution_count": 1,
      "metadata": {
        "collapsed": false,
        "outputHidden": false,
        "inputHidden": false
      }
    },
    {
      "cell_type": "code",
      "source": [
        "g = erdosrenyi(100, .05)"
      ],
      "outputs": [],
      "execution_count": 6,
      "metadata": {
        "collapsed": false,
        "outputHidden": false,
        "inputHidden": false
      }
    },
    {
      "cell_type": "code",
      "source": [
        "length(g.nodeattrs),  # right now, there are no attributes\n",
        "length(g.edgeattrs)"
      ],
      "outputs": [],
      "execution_count": 14,
      "metadata": {
        "collapsed": false,
        "outputHidden": false,
        "inputHidden": false
      }
    },
    {
      "cell_type": "markdown",
      "source": [
        "Node attributes are set using the familiar array slice syntax."
      ],
      "metadata": {}
    },
    {
      "cell_type": "code",
      "source": [
        "g[:, :foo] = 10     # we set the attribute \"test\" to 10 for each node"
      ],
      "outputs": [],
      "execution_count": 37,
      "metadata": {
        "collapsed": false,
        "outputHidden": false,
        "inputHidden": false
      }
    },
    {
      "cell_type": "code",
      "source": [
        "g[10, :foo] = 5     # we set \"test\" to 5 just for node 10"
      ],
      "outputs": [],
      "execution_count": 38,
      "metadata": {
        "collapsed": false,
        "outputHidden": false,
        "inputHidden": false
      }
    },
    {
      "cell_type": "code",
      "source": [
        "g[:, :bar] = 100    # another dummy attribute"
      ],
      "outputs": [],
      "execution_count": 39,
      "metadata": {
        "collapsed": false,
        "outputHidden": false,
        "inputHidden": false
      }
    },
    {
      "cell_type": "markdown",
      "source": [
        "We can see their contents as an array."
      ],
      "metadata": {}
    },
    {
      "cell_type": "code",
      "source": [
        "g[:, :foo]"
      ],
      "outputs": [],
      "execution_count": 22,
      "metadata": {
        "collapsed": false,
        "outputHidden": false,
        "inputHidden": false
      }
    },
    {
      "cell_type": "code",
      "source": [
        "g[:, :bar]"
      ],
      "outputs": [],
      "execution_count": 23,
      "metadata": {
        "collapsed": false,
        "outputHidden": false,
        "inputHidden": false
      }
    },
    {
      "cell_type": "markdown",
      "source": [
        "However, when we look at their size in memory, we find out they occupy just a couple of bytes (for 100 elements)."
      ],
      "metadata": {}
    },
    {
      "cell_type": "code",
      "source": [
        "sizeof(g[:, :foo].data), sizeof(g[:, :bar])"
      ],
      "outputs": [],
      "execution_count": 33,
      "metadata": {
        "collapsed": false,
        "outputHidden": false,
        "inputHidden": false
      }
    },
    {
      "cell_type": "markdown",
      "source": [
        "This is due to the fact that Junet uses the optimized sparse representations for attributes by default.\n",
        "* If argument is the same for all nodes (or edges), then only that default value is stored.\n",
        "* If argument is different from default value for just a couple of nodes, only the default and different values are stored.\n",
        "* If uses passes a sparse data structure (e.g., array) as an argument, it is preserved."
      ],
      "metadata": {}
    },
    {
      "cell_type": "code",
      "source": [
        "g[:, :dense] = rand(nodecount(g))"
      ],
      "outputs": [],
      "execution_count": 25,
      "metadata": {
        "collapsed": false,
        "outputHidden": false,
        "inputHidden": false
      }
    },
    {
      "cell_type": "code",
      "source": [
        "sizeof(g[:, :dense].data)"
      ],
      "outputs": [],
      "execution_count": 27,
      "metadata": {
        "collapsed": false,
        "outputHidden": false,
        "inputHidden": false
      }
    },
    {
      "cell_type": "markdown",
      "source": [
        "Attributes can generally be treated as `Vector`'s, and thus they support most of the mathematical operations."
      ],
      "metadata": {}
    },
    {
      "cell_type": "code",
      "source": [
        "g[:, :bar] * 2"
      ],
      "outputs": [],
      "execution_count": null,
      "metadata": {
        "collapsed": false,
        "outputHidden": false,
        "inputHidden": false
      }
    },
    {
      "cell_type": "code",
      "source": [
        "g[:, :bar] *= 2"
      ],
      "outputs": [],
      "execution_count": 42,
      "metadata": {
        "collapsed": false,
        "outputHidden": false,
        "inputHidden": false
      }
    },
    {
      "cell_type": "markdown",
      "source": [
        "Finally, attributes work similarly when applied to edges."
      ],
      "metadata": {}
    },
    {
      "cell_type": "code",
      "source": [
        "g[:, :, :a] = 1"
      ],
      "outputs": [],
      "execution_count": 43,
      "metadata": {
        "collapsed": false,
        "outputHidden": false,
        "inputHidden": false
      }
    },
    {
      "cell_type": "code",
      "source": [
        "g[:, :, :a]"
      ],
      "outputs": [],
      "execution_count": 47,
      "metadata": {
        "collapsed": false,
        "outputHidden": false,
        "inputHidden": false
      }
    },
    {
      "cell_type": "code",
      "source": [
        "g[:, 3, :a] = 2"
      ],
      "outputs": [],
      "execution_count": 53,
      "metadata": {
        "collapsed": false,
        "outputHidden": false,
        "inputHidden": false
      }
    },
    {
      "cell_type": "code",
      "source": [
        "collect(g[3, :, :a])"
      ],
      "outputs": [],
      "execution_count": 55,
      "metadata": {
        "collapsed": false,
        "outputHidden": false,
        "inputHidden": false
      }
    },
    {
      "cell_type": "code",
      "source": [
        "collect(g[:, 3, :a])"
      ],
      "outputs": [],
      "execution_count": 54,
      "metadata": {
        "collapsed": false,
        "outputHidden": false,
        "inputHidden": false
      }
    },
    {
      "cell_type": "code",
      "source": [],
      "outputs": [],
      "execution_count": null,
      "metadata": {
        "collapsed": false,
        "outputHidden": false,
        "inputHidden": false
      }
    }
  ],
  "metadata": {
    "kernelspec": {
      "name": "julia-0.5",
      "language": "julia",
      "display_name": "Julia 0.5.1"
    },
    "kernel_info": {
      "name": "julia-0.5"
    },
    "language_info": {
      "file_extension": ".jl",
      "name": "julia",
      "mimetype": "application/julia",
      "version": "0.5.2"
    }
  },
  "nbformat": 4,
  "nbformat_minor": 4
}