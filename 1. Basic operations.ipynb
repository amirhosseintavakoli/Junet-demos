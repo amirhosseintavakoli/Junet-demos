{
  "cells": [
    {
      "cell_type": "markdown",
      "source": [
        "# Basic operations\n",
        "\n",
        "This notebook overviews the basic operations with graphs implemented in Junet.\n"
      ],
      "metadata": {}
    },
    {
      "cell_type": "markdown",
      "source": [
        "*Note: to access the built-in help for any command `x`, you can enter `?x` in an empty cell and then press `[Shift]`+`[Return]`.*"
      ],
      "metadata": {}
    },
    {
      "cell_type": "code",
      "source": [
        "using Junet"
      ],
      "outputs": [],
      "execution_count": 1,
      "metadata": {
        "collapsed": false,
        "outputHidden": false,
        "inputHidden": false
      }
    },
    {
      "cell_type": "markdown",
      "source": [
        "## Graph objects\n",
        "\n",
        "Graphs in Junet have several properties:\n",
        "* directedness (directed vs undirected)\n",
        "* allowance for multiple edges (multigraph vs simple graph)\n",
        "* node and edge identifier types\n",
        "\nThey all can be assigned at the time the graph is created."
      ],
      "metadata": {
        "collapsed": false,
        "outputHidden": false,
        "inputHidden": false
      }
    },
    {
      "cell_type": "code",
      "source": [
        "g = Graph()              # create new empty graph (directed by default)"
      ],
      "outputs": [],
      "execution_count": 4,
      "metadata": {
        "collapsed": false,
        "outputHidden": false,
        "inputHidden": false
      }
    },
    {
      "cell_type": "code",
      "source": [
        "g = Graph(directed=true)  # create a new directed graph"
      ],
      "outputs": [],
      "execution_count": 5,
      "metadata": {
        "collapsed": false,
        "outputHidden": false,
        "inputHidden": false
      }
    },
    {
      "cell_type": "code",
      "source": [
        "g = Graph(directed=false) # create a new undirected graph"
      ],
      "outputs": [],
      "execution_count": 6,
      "metadata": {
        "collapsed": false,
        "outputHidden": false,
        "inputHidden": false
      }
    },
    {
      "cell_type": "markdown",
      "source": [
        "Directionality can be easily changed later. Each time the fullowing functions are called, a lightweight view is created on the data and no actual data is copied."
      ],
      "metadata": {}
    },
    {
      "cell_type": "code",
      "source": [
        "ug = undirected(g)       # make an undirected view on the graph"
      ],
      "outputs": [],
      "execution_count": 7,
      "metadata": {
        "collapsed": false,
        "outputHidden": false,
        "inputHidden": false
      }
    },
    {
      "cell_type": "code",
      "source": [
        "dg = directed(g)         # make an directed view on the graph"
      ],
      "outputs": [],
      "execution_count": 8,
      "metadata": {
        "collapsed": false,
        "outputHidden": false,
        "inputHidden": false
      }
    },
    {
      "cell_type": "code",
      "source": [
        "rg = reverse(g)          # make a view on the graph where each edge is reversed "
      ],
      "outputs": [],
      "execution_count": 9,
      "metadata": {
        "collapsed": false,
        "outputHidden": false,
        "inputHidden": false
      }
    },
    {
      "cell_type": "markdown",
      "source": [
        "Similarly, to specify edge multiplicity:"
      ],
      "metadata": {}
    },
    {
      "cell_type": "code",
      "source": [
        "g = Graph(multigraph=true)  # create a new multigraph (default)"
      ],
      "outputs": [],
      "execution_count": null,
      "metadata": {
        "collapsed": false,
        "outputHidden": false,
        "inputHidden": false
      }
    },
    {
      "cell_type": "code",
      "source": [
        "g = Graph(multigraph=false) # create a new simple graph (default)"
      ],
      "outputs": [],
      "execution_count": null,
      "metadata": {
        "collapsed": false,
        "outputHidden": false,
        "inputHidden": false
      }
    },
    {
      "cell_type": "markdown",
      "source": [
        "Finally, node and edge identifier types have the special meaning.\n",
        "To represent the network in memory, Junet uses identifiers for both nodes and edges. While node identifiers are mandatory, edge identifiers are only needed to associate the edge attributes with the network.\n",
        "\n",
        "Thus, by controlling the types of identifiers, it is possible to reduce the amount of memory required to represent the network.\n",
        "* By default, both node and edge identifiers in Junet are `UInt32`, unsigned 32-bit integers.\n",
        "That has no impact on package's capabilities as long as the networks have under 4 billion nodes and edges.\n",
        "\n",
        "  Since other network analysis libraries use `Int64` on 64-bit machines, Junet networks typically require 2 times less RAM.\n",
        "  \n",
        "* Since edge identifiers are only used to associate the edge attributes with the network, those identifiers can be safely omitted if there is no need for edge attributes.\n",
        "\n  Doing so frees up even more memory (about 4-fold improvement over other libraries)."
      ],
      "metadata": {}
    },
    {
      "cell_type": "code",
      "source": [
        "g = Graph(nodeids=Int, edgeids=Int)       # 64-bit integers\n",
        "                                       # about the same size as igraph on 64-bit machines"
      ],
      "outputs": [],
      "execution_count": null,
      "metadata": {
        "collapsed": false,
        "outputHidden": false,
        "inputHidden": false
      }
    },
    {
      "cell_type": "code",
      "source": [
        "g = Graph(nodeids=UInt32, edgeids=UInt32)  # 2 times smaller (default)"
      ],
      "outputs": [],
      "execution_count": null,
      "metadata": {
        "collapsed": false,
        "outputHidden": false,
        "inputHidden": false
      }
    },
    {
      "cell_type": "code",
      "source": [
        "g = Graph(nodeids=UInt32, edgeids=Void)    # 4 times smaller (edge identifiers omitted)"
      ],
      "outputs": [],
      "execution_count": null,
      "metadata": {
        "collapsed": false,
        "outputHidden": false,
        "inputHidden": false
      }
    },
    {
      "cell_type": "code",
      "source": [
        "g = Graph(nodeids=UInt8, edgeids=Void)     # ~16x smaller!\n",
        "                                        #(could be used for really small networks)"
      ],
      "outputs": [],
      "execution_count": null,
      "metadata": {
        "collapsed": false,
        "outputHidden": false,
        "inputHidden": false
      }
    },
    {
      "cell_type": "markdown",
      "source": [
        "## Nodes\n",
        "\nEmpty graphs can be readily created with a set of nodes. Otherwise, they can be added and removed one-by-one."
      ],
      "metadata": {}
    },
    {
      "cell_type": "code",
      "source": [
        "g = Graph(nodecount=10)"
      ],
      "outputs": [],
      "execution_count": 10,
      "metadata": {
        "collapsed": false,
        "outputHidden": false,
        "inputHidden": false
      }
    },
    {
      "cell_type": "code",
      "source": [
        "addnode!(g)     # adds one node, its identifier 0x0000000b is returned"
      ],
      "outputs": [],
      "execution_count": 11,
      "metadata": {
        "collapsed": false,
        "outputHidden": false,
        "inputHidden": false
      }
    },
    {
      "cell_type": "code",
      "source": [
        "addnode!(g, 4)  # adds 4 nodes"
      ],
      "outputs": [],
      "execution_count": 12,
      "metadata": {
        "collapsed": false,
        "outputHidden": false,
        "inputHidden": false
      }
    },
    {
      "cell_type": "code",
      "source": [
        "remnode!(g, 3)  # remove node with identifier 3"
      ],
      "outputs": [],
      "execution_count": 13,
      "metadata": {
        "collapsed": false,
        "outputHidden": false,
        "inputHidden": false
      }
    },
    {
      "cell_type": "code",
      "source": [
        "nodecount(g)   # there are 14 nodes now"
      ],
      "outputs": [],
      "execution_count": 14,
      "metadata": {
        "collapsed": false,
        "outputHidden": false,
        "inputHidden": false
      }
    },
    {
      "cell_type": "markdown",
      "source": [
        "## Edges\n",
        "\nSimilar syntax allows to add and remove nodes."
      ],
      "metadata": {}
    },
    {
      "cell_type": "code",
      "source": [
        "addedge!(g, 1, 2)  # add 1 edge"
      ],
      "outputs": [],
      "execution_count": 29,
      "metadata": {
        "collapsed": false,
        "outputHidden": false,
        "inputHidden": false
      }
    },
    {
      "cell_type": "code",
      "source": [
        "for i = 1:20      # add 20 random edges\n",
        "    addedge!(g, rand(nodes(g), 2)...)\n",
        "end"
      ],
      "outputs": [],
      "execution_count": 16,
      "metadata": {
        "collapsed": false,
        "outputHidden": false,
        "inputHidden": false
      }
    },
    {
      "cell_type": "code",
      "source": [
        "edgecount(g)      # 21 edge now"
      ],
      "outputs": [],
      "execution_count": 17,
      "metadata": {
        "collapsed": false,
        "outputHidden": false,
        "inputHidden": false
      }
    },
    {
      "cell_type": "markdown",
      "source": [
        "## Views on edges\n",
        "\nFinally, to see which edges exist in the graph, we can use a matrix-like syntax."
      ],
      "metadata": {}
    },
    {
      "cell_type": "code",
      "source": [
        "collect(g[:, :])"
      ],
      "outputs": [],
      "execution_count": 24,
      "metadata": {
        "collapsed": false,
        "outputHidden": false,
        "inputHidden": false
      }
    },
    {
      "cell_type": "code",
      "source": [
        "g[1, 1:5]"
      ],
      "outputs": [],
      "execution_count": 26,
      "metadata": {
        "collapsed": false,
        "outputHidden": false,
        "inputHidden": false
      }
    },
    {
      "cell_type": "code",
      "source": [
        "g[1, :]"
      ],
      "outputs": [],
      "execution_count": 27,
      "metadata": {
        "collapsed": false,
        "outputHidden": false,
        "inputHidden": false
      }
    },
    {
      "cell_type": "code",
      "source": [
        "g[1, 2]"
      ],
      "outputs": [],
      "execution_count": 30,
      "metadata": {
        "collapsed": false,
        "outputHidden": false,
        "inputHidden": false
      }
    },
    {
      "cell_type": "code",
      "source": [],
      "outputs": [],
      "execution_count": null,
      "metadata": {
        "collapsed": false,
        "outputHidden": false,
        "inputHidden": false
      }
    }
  ],
  "metadata": {
    "kernelspec": {
      "name": "julia-0.5",
      "language": "julia",
      "display_name": "Julia 0.5.1"
    },
    "kernel_info": {
      "name": "julia-0.5"
    },
    "language_info": {
      "file_extension": ".jl",
      "name": "julia",
      "mimetype": "application/julia",
      "version": "0.5.2"
    }
  },
  "nbformat": 4,
  "nbformat_minor": 4
}